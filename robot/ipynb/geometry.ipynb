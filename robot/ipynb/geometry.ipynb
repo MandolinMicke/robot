{
 "cells": [
  {
   "cell_type": "code",
   "execution_count": 1,
   "metadata": {},
   "outputs": [],
   "source": [
    "%matplotlib inline\n",
    "\n",
    "import matplotlib.pyplot as plt\n",
    "import numpy as np\n",
    "import os\n",
    "import sys\n",
    "import time\n",
    "from IPython.display import clear_output\n",
    "from shapely.geometry import LineString, Point\n",
    "\n",
    "sys.path.insert(0, os.path.join('..', 'rl'))\n",
    "import arnold"
   ]
  },
  {
   "cell_type": "code",
   "execution_count": 2,
   "metadata": {},
   "outputs": [
    {
     "data": {
      "image/svg+xml": [
       "<svg xmlns=\"http://www.w3.org/2000/svg\" xmlns:xlink=\"http://www.w3.org/1999/xlink\" width=\"100.0\" height=\"100.0\" viewBox=\"-0.2 -0.2 0.8999999999999999 5.4\" preserveAspectRatio=\"xMinYMin meet\"><g transform=\"matrix(1,0,0,-1,0,5.0)\"><polyline fill=\"none\" stroke=\"#66cc99\" stroke-width=\"0.10800000000000001\" points=\"0.0,5.0 0.0,0.0 0.5,0.0 0.5,5.0\" opacity=\"0.8\" /></g></svg>"
      ],
      "text/plain": [
       "<shapely.geometry.linestring.LineString at 0x7f53cdf8abe0>"
      ]
     },
     "execution_count": 2,
     "metadata": {},
     "output_type": "execute_result"
    }
   ],
   "source": [
    "maze = LineString([[0,5], [0,0], [.5,0], [.5,5]])\n",
    "finish = LineString([[0,5],[.5,5]])\n",
    "start_heading = [0,.25]\n",
    "maze"
   ]
  },
  {
   "cell_type": "code",
   "execution_count": 6,
   "metadata": {},
   "outputs": [
    {
     "data": {
      "image/png": "[encoded data removed]",
      "text/plain": [
       "<Figure size 432x288 with 1 Axes>"
      ]
     },
     "metadata": {
      "needs_background": "light"
     },
     "output_type": "display_data"
    }
   ],
   "source": [
    "car = arnold.Arnold()\n",
    "inp = arnold.ControlInput\n",
    "inp.heading = np.pi/2\n",
    "inp.time_step = 1\n",
    "inp.left_speed = 1\n",
    "inp.right_speed = 1.2\n",
    "\n",
    "x = .25\n",
    "y = .25\n",
    "\n",
    "for i in range(50):    \n",
    "    inp.left_speed = np.random.random()\n",
    "    inp.right_speed = np.random.random()\n",
    "    dx, dy, deltah = car.step(inp)\n",
    "    inp.heading += deltah\n",
    "    x += dx\n",
    "    y += dy\n",
    "#     print('New position: (' + str(x) + ',' + str(y) + ',' + str(inp.heading) + ')')\n",
    "\n",
    "    clear_output(wait=True)\n",
    "    fig, ax = plt.subplots()\n",
    "    ax.axis('equal')\n",
    "    ax.plot(*maze.xy)\n",
    "    ax.plot(*finish.xy)\n",
    "    ax.arrow(x, y, np.cos(inp.heading), np.sin(inp.heading), width=.01, head_width=.1)\n",
    "    plt.show()\n",
    "    if LineString([[x, y], [x+10*np.cos(inp.heading), y+10*np.sin(inp.heading)]]).intersection(maze):\n",
    "        print('Intersection')\n",
    "    time.sleep(0.1)"
   ]
  },
  {
   "cell_type": "code",
   "execution_count": 31,
   "metadata": {},
   "outputs": [
    {
     "data": {
      "text/plain": [
       "(-0.1, 2.1, -0.5, 10.5)"
      ]
     },
     "execution_count": 31,
     "metadata": {},
     "output_type": "execute_result"
    },
    {
     "data": {
      "image/png": "[encoded data removed]",
      "text/plain": [
       "<Figure size 432x288 with 1 Axes>"
      ]
     },
     "metadata": {
      "needs_background": "light"
     },
     "output_type": "display_data"
    }
   ],
   "source": [
    "fig, ax = plt.subplots()\n",
    "ax.plot(*maze.xy)\n",
    "ax.plot(*finish.xy)\n",
    "# ax.arrow(*start_point.xy, 0, 1)\n",
    "ax.arrow(1, 1, 0, 0.3, width=.01, head_width=.3)\n",
    "ax.axis('equal')"
   ]
  },
  {
   "cell_type": "code",
   "execution_count": 4,
   "metadata": {},
   "outputs": [
    {
     "data": {
      "text/plain": [
       "9.0"
      ]
     },
     "execution_count": 4,
     "metadata": {},
     "output_type": "execute_result"
    }
   ],
   "source": [
    "finish.distance(start_point)"
   ]
  }
 ],
 "metadata": {
  "kernelspec": {
   "display_name": "Python 3",
   "language": "python",
   "name": "python3"
  },
  "language_info": {
   "codemirror_mode": {
    "name": "ipython",
    "version": 3
   },
   "file_extension": ".py",
   "mimetype": "text/x-python",
   "name": "python",
   "nbconvert_exporter": "python",
   "pygments_lexer": "ipython3",
   "version": "3.8.2"
  }
 },
 "nbformat": 4,
 "nbformat_minor": 4
}
